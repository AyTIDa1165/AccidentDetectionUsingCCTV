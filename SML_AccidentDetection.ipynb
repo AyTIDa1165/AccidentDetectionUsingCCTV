{
  "cells": [
    {
      "cell_type": "markdown",
      "metadata": {
        "id": "view-in-github",
        "colab_type": "text"
      },
      "source": [
        "<a href=\"https://colab.research.google.com/github/AyTIDa1165/AccidentDetectionUsingCCTV/blob/main/SML_AccidentDetection.ipynb\" target=\"_parent\"><img src=\"https://colab.research.google.com/assets/colab-badge.svg\" alt=\"Open In Colab\"/></a>"
      ]
    },
    {
      "cell_type": "markdown",
      "metadata": {
        "id": "-uyHA1lP84_4"
      },
      "source": [
        "All the Imported Modules"
      ]
    },
    {
      "cell_type": "code",
      "execution_count": null,
      "metadata": {
        "colab": {
          "base_uri": "https://localhost:8080/"
        },
        "id": "rXh0ZX6484_5",
        "outputId": "a26cfbee-7e5e-476b-da42-6786239042fc"
      },
      "outputs": [
        {
          "output_type": "stream",
          "name": "stdout",
          "text": [
            "Drive already mounted at /content/drive; to attempt to forcibly remount, call drive.mount(\"/content/drive\", force_remount=True).\n"
          ]
        }
      ],
      "source": [
        "# import cupy as np\n",
        "import numpy as np\n",
        "from PIL import Image\n",
        "from skimage.transform import resize\n",
        "import os\n",
        "import matplotlib.pyplot as plt\n",
        "from sklearn.decomposition import IncrementalPCA\n",
        "from sklearn.decomposition import PCA\n",
        "from sklearn.discriminant_analysis import QuadraticDiscriminantAnalysis\n",
        "from sklearn.ensemble import AdaBoostClassifier\n",
        "from sklearn.ensemble import GradientBoostingClassifier\n",
        "from sklearn.ensemble import RandomForestClassifier\n",
        "from sklearn.metrics import accuracy_score\n",
        "from sklearn.decomposition import IncrementalPCA\n",
        "import tensorflow as tf\n",
        "from tensorflow.keras.models import Sequential\n",
        "from tensorflow.keras.layers import Dense, Dropout\n",
        "from tensorflow.keras.callbacks import EarlyStopping\n",
        "from PIL import Image\n",
        "import joblib\n",
        "from google.colab import drive\n",
        "drive.mount('/content/drive')"
      ]
    },
    {
      "cell_type": "markdown",
      "metadata": {
        "id": "vjIJ_3Sm84_6"
      },
      "source": [
        "Function Definations"
      ]
    },
    {
      "cell_type": "code",
      "execution_count": null,
      "metadata": {
        "id": "HDXkq65684_6"
      },
      "outputs": [],
      "source": [
        "def jpeg_to_numpy(image_folder, image_size=(240, 240)):\n",
        "\n",
        " # Get list of image file names\n",
        "    image_files = [file for file in os.listdir(image_folder) if file.endswith('.jpg')]\n",
        "    total_images = len([filename for filename in os.listdir(image_folder) if filename.endswith((\".jpg\", \".jpeg\"))])\n",
        "    processed_images = 0\n",
        "    # Initialize numpy array to store images\n",
        "    num_images = len(image_files)\n",
        "    numpy_array = np.zeros((num_images,) + image_size + (3,), dtype=np.uint8)\n",
        "\n",
        "    # Load and resize images, then store in numpy array\n",
        "    for i, file in enumerate(image_files):\n",
        "        processed_images += 1\n",
        "        print(f\"Processed: {processed_images}/{total_images}\", end=\"\\r\")\n",
        "        image_path = os.path.join(image_folder, file)\n",
        "        image = Image.open(image_path)\n",
        "        image = np.array(image)  # Convert PIL image to numpy array\n",
        "        image = resize(image, image_size, anti_aliasing=True)\n",
        "        numpy_array[i] = np.uint8(image * 255)  # Convert back to uint8\n",
        "\n",
        "    return numpy_array\n",
        "\n",
        "def pca_fit(X, n_components):\n",
        "    # Center the data\n",
        "    mean = np.mean(X, axis=0)\n",
        "    X_centered = X - mean\n",
        "\n",
        "    # Compute covariance matrix\n",
        "    cov_matrix = np.cov(X_centered, rowvar=False)\n",
        "\n",
        "    # Compute eigenvalues and eigenvectors\n",
        "    eigenvalues, eigenvectors = np.linalg.eigh(cov_matrix)\n",
        "\n",
        "    # Sort eigenvectors by eigenvalues in descending order\n",
        "    sorted_indices = np.argsort(eigenvalues)[::-1]\n",
        "    sorted_eigenvalues = eigenvalues[sorted_indices]\n",
        "    sorted_eigenvectors = eigenvectors[:, sorted_indices]\n",
        "\n",
        "    # Select top n_components eigenvectors\n",
        "    principal_components = sorted_eigenvectors[:, :n_components]\n",
        "\n",
        "    # Return principal components and mean for later use in transformation\n",
        "    return principal_components, mean\n",
        "\n",
        "def pca_transform(X, principal_components, mean):\n",
        "    # Center the data using the mean of the training set\n",
        "    X_centered = X - mean\n",
        "\n",
        "    # Project the centered data onto the principal components\n",
        "    transformed_data = np.dot(X_centered, principal_components)\n",
        "\n",
        "    return transformed_data\n",
        "\n",
        "def printdistribution(arr):\n",
        "    unique_elements, counts = np.unique(arr, return_counts=True)\n",
        "    for i in range(len(unique_elements)):\n",
        "        print(unique_elements[i],\":\",counts[i])\n",
        "\n",
        "def process_and_predict(image_path, model, ipca):\n",
        "\n",
        "    image_size = (240, 240)\n",
        "    numpy_array = np.zeros(image_size + (3,), dtype=np.uint8)\n",
        "\n",
        "    # Load and resize the image\n",
        "    image = Image.open(image_path)\n",
        "    img_resized = image.resize((240, 240))\n",
        "    image = np.array(img_resized)  # Convert PIL image to numpy array\n",
        "    image = resize(image, image_size, anti_aliasing=True)\n",
        "    numpy_array = np.uint8(image * 255)  # Convert back to uint8\n",
        "\n",
        "    # Reshape the image array\n",
        "    image_reshaped = numpy_array.reshape(1, -1)\n",
        "    # Apply Incremental PCA transformation\n",
        "    image_pca = ipca.transform(image_reshaped)\n",
        "\n",
        "    # Predict using the model\n",
        "    prediction = model.predict(image_pca)\n",
        "\n",
        "    # Plot the image\n",
        "    plt.imshow(numpy_array)\n",
        "    plt.title(f'Prediction: {\"Accident\" if prediction[0] > 0.5 else \"Non-Accident\"}')\n",
        "    plt.axis('off')\n",
        "    plt.show()\n",
        "\n"
      ]
    },
    {
      "cell_type": "markdown",
      "metadata": {
        "id": "_oLr3gO-84_7"
      },
      "source": [
        "Load numpy arrays from files"
      ]
    },
    {
      "cell_type": "code",
      "execution_count": null,
      "metadata": {
        "id": "3dJLGVOw84_7"
      },
      "outputs": [],
      "source": [
        "accident_data_train = np.load(\"/content/drive/MyDrive/SML Project/RoadAccidentDatabaseNumpy/Accident/TrainNumpy.npy\")\n",
        "non_accident_data_train = np.load(\"/content/drive/MyDrive/SML Project/RoadAccidentDatabaseNumpy/Non-Accident/TrainNumpy.npy\")\n",
        "\n",
        "# accident_data_val = np.load(r\"C:\\Users\\mehul\\Downloads\\RoadAccidentDatabaseNumpy\\Accident\\ValNumpy.npy\")\n",
        "# non_accident_data_val = np.load(r\"C:\\Users\\mehul\\Downloads\\RoadAccidentDatabase\\Non-Accident\\ValNumpy.npy\")\n",
        "\n",
        "accident_data_test = np.load(\"/content/drive/MyDrive/SML Project/RoadAccidentDatabaseNumpy/Accident/TestNumpy.npy\")\n",
        "non_accident_data_test = np.load(\"/content/drive/MyDrive/SML Project/RoadAccidentDatabaseNumpy/Non-Accident/TestNumpy.npy\")"
      ]
    },
    {
      "cell_type": "markdown",
      "metadata": {
        "id": "VK8jJpFh84_7"
      },
      "source": [
        "Create labels for each dataset"
      ]
    },
    {
      "cell_type": "code",
      "execution_count": null,
      "metadata": {
        "id": "cvmQCG6-84_7"
      },
      "outputs": [],
      "source": [
        "accident_labels_train = np.ones(accident_data_train.shape[0], dtype=np.int8)  # Assign label 1 to accident data\n",
        "non_accident_labels_train = np.zeros(non_accident_data_train.shape[0], dtype=np.int8)  # Assign label 0 to non-accident data\n",
        "\n",
        "# accident_labels_val  = np.ones(accident_data_val.shape[0], dtype=np.int8)  # Assign label 1 to accident data\n",
        "# non_accident_labels_val  = np.zeros(non_accident_data_val.shape[0], dtype=np.int8)  # Assign label 0 to non-accident data\n",
        "\n",
        "accident_labels_test = np.ones(accident_data_test.shape[0], dtype=np.int8)  # Assign label 1 to accident data\n",
        "non_accident_labels_test = np.zeros(non_accident_data_test.shape[0], dtype=np.int8)  # Assign label 0 to non-accident data"
      ]
    },
    {
      "cell_type": "markdown",
      "metadata": {
        "id": "hIBK3eg_84_8"
      },
      "source": [
        "Making the number of data points of each class equal and shuffling the data"
      ]
    },
    {
      "cell_type": "code",
      "execution_count": null,
      "metadata": {
        "colab": {
          "base_uri": "https://localhost:8080/"
        },
        "id": "S8hlqLQd84_8",
        "outputId": "f67bd7eb-a93d-46dc-99a6-bd2a738d1b92"
      },
      "outputs": [
        {
          "output_type": "stream",
          "name": "stdout",
          "text": [
            "10469\n"
          ]
        }
      ],
      "source": [
        "num_accident_samples = len(accident_data_train)\n",
        "num_non_accident_samples = len(non_accident_data_train)\n",
        "print(num_accident_samples)\n",
        "# Determine the minimum number of samples between the two classes\n",
        "min_samples = 5000 #Reducing the size of the data due to computational constraints\n",
        "\n",
        "# Randomly select a subset of samples from each class to make them equal\n",
        "accident_indices = np.random.choice(num_accident_samples, min_samples, replace=False)\n",
        "non_accident_indices = np.random.choice(num_non_accident_samples, min_samples, replace=False)\n",
        "\n",
        "balanced_accident_data_train = accident_data_train[accident_indices]\n",
        "balanced_non_accident_data_train = non_accident_data_train[non_accident_indices]\n",
        "\n",
        "balanced_accident_labels_train = accident_labels_train[accident_indices]\n",
        "balanced_non_accident_labels_train = non_accident_labels_train[non_accident_indices]"
      ]
    },
    {
      "cell_type": "code",
      "execution_count": null,
      "metadata": {
        "id": "AeloEXbr84_8"
      },
      "outputs": [],
      "source": [
        "del accident_data_train, non_accident_data_train"
      ]
    },
    {
      "cell_type": "markdown",
      "metadata": {
        "id": "3vnm1Qj984_8"
      },
      "source": [
        "Making the number of data points of test set for each class equal and shuffling the data"
      ]
    },
    {
      "cell_type": "code",
      "execution_count": null,
      "metadata": {
        "id": "lzwN7BHh84_8"
      },
      "outputs": [],
      "source": [
        "num_accident_samples = len(accident_data_test)\n",
        "num_non_accident_samples = len(non_accident_data_test)\n",
        "# Determine the minimum number of samples between the two classes\n",
        "min_samples = 500\n",
        "\n",
        "# Randomly select a subset of samples from each class to make them equal\n",
        "accident_indices = np.random.choice(num_accident_samples, min_samples, replace=False)\n",
        "non_accident_indices = np.random.choice(num_non_accident_samples, min_samples, replace=False)\n",
        "\n",
        "balanced_accident_data_test = accident_data_test[accident_indices]\n",
        "balanced_non_accident_data_test = non_accident_data_test[non_accident_indices]\n",
        "\n",
        "balanced_accident_labels_test = accident_labels_test[accident_indices]\n",
        "balanced_non_accident_labels_test = non_accident_labels_test[non_accident_indices]"
      ]
    },
    {
      "cell_type": "code",
      "execution_count": null,
      "metadata": {
        "id": "JBtS2jk784_8"
      },
      "outputs": [],
      "source": [
        "del accident_data_test, non_accident_data_test"
      ]
    },
    {
      "cell_type": "markdown",
      "metadata": {
        "id": "kGMEevVG84_8"
      },
      "source": [
        "Join the data and Labels"
      ]
    },
    {
      "cell_type": "code",
      "execution_count": null,
      "metadata": {
        "id": "t7BQeijf84_8"
      },
      "outputs": [],
      "source": [
        "x_train = np.concatenate((balanced_accident_data_train, balanced_non_accident_data_train), axis=0)\n",
        "y_train = np.concatenate((balanced_accident_labels_train, balanced_non_accident_labels_train), axis=0)\n",
        "\n",
        "del balanced_accident_data_train, balanced_non_accident_data_train\n",
        "\n",
        "# x_val = np.concatenate((accident_data_val, non_accident_data_val), axis=0)\n",
        "# y_val = np.concatenate((accident_labels_val, non_accident_labels_val), axis=0)\n",
        "\n",
        "x_test = np.concatenate((balanced_accident_data_test, balanced_non_accident_data_test), axis=0)\n",
        "y_test = np.concatenate((balanced_accident_labels_test, balanced_non_accident_labels_test), axis=0)\n",
        "\n",
        "del balanced_accident_data_test, balanced_non_accident_data_test"
      ]
    },
    {
      "cell_type": "markdown",
      "metadata": {
        "id": "yT1yAiBv84_9"
      },
      "source": [
        "Print the shape of resulting arrays"
      ]
    },
    {
      "cell_type": "code",
      "execution_count": null,
      "metadata": {
        "colab": {
          "base_uri": "https://localhost:8080/"
        },
        "id": "YOQsEiHP84_9",
        "outputId": "75dae6f1-8b87-4e7a-d0fa-f0ab22a1a48e"
      },
      "outputs": [
        {
          "output_type": "stream",
          "name": "stdout",
          "text": [
            "Shape of x_train: (10000, 240, 240, 3)\n",
            "Shape of y_train: (10000,)\n",
            "Shape of x_test: (1000, 240, 240, 3)\n",
            "Shape of y_test: (1000,)\n"
          ]
        }
      ],
      "source": [
        "print(\"Shape of x_train:\", x_train.shape)\n",
        "print(\"Shape of y_train:\", y_train.shape)\n",
        "\n",
        "# print(\"Shape of x_val:\", x_val.shape)\n",
        "# print(\"Shape of y_val:\", y_val.shape)\n",
        "\n",
        "print(\"Shape of x_test:\", x_test.shape)\n",
        "print(\"Shape of y_test:\", y_test.shape)"
      ]
    },
    {
      "cell_type": "markdown",
      "metadata": {
        "id": "_n-fd8-a84_9"
      },
      "source": [
        "Flatten the input data"
      ]
    },
    {
      "cell_type": "code",
      "execution_count": null,
      "metadata": {
        "colab": {
          "base_uri": "https://localhost:8080/"
        },
        "id": "G50-hiHt84_9",
        "outputId": "dcafdac4-e35f-43e9-cd41-52ef7604ebb1"
      },
      "outputs": [
        {
          "output_type": "stream",
          "name": "stdout",
          "text": [
            "Shape of x_train_flat: (10000, 172800)\n",
            "Shape of x_test_flat: (1000, 172800)\n"
          ]
        }
      ],
      "source": [
        "x_train_flat = x_train.reshape(x_train.shape[0], -1)\n",
        "x_test_flat = x_test.reshape(x_test.shape[0], -1)\n",
        "\n",
        "print(\"Shape of x_train_flat:\", x_train_flat.shape)\n",
        "print(\"Shape of x_test_flat:\", x_test_flat.shape)"
      ]
    },
    {
      "cell_type": "markdown",
      "metadata": {
        "id": "n8DyChIh84_9"
      },
      "source": [
        "Deleting obsolete Variables"
      ]
    },
    {
      "cell_type": "markdown",
      "metadata": {
        "id": "YpsoTmZq84_9"
      },
      "source": [
        "Counting the number of Accidents and Non Accidents in test data"
      ]
    },
    {
      "cell_type": "code",
      "execution_count": null,
      "metadata": {
        "colab": {
          "base_uri": "https://localhost:8080/"
        },
        "id": "UxWQUJ2c84_9",
        "outputId": "3f6b21e4-8022-479c-f601-208056d4fb6f"
      },
      "outputs": [
        {
          "output_type": "stream",
          "name": "stdout",
          "text": [
            "0 : 500\n",
            "1 : 500\n"
          ]
        }
      ],
      "source": [
        "printdistribution(y_test)"
      ]
    },
    {
      "cell_type": "markdown",
      "metadata": {
        "id": "VAfb2Hwj84_-"
      },
      "source": [
        "Apply Incremental PCA for dimensionality reduction"
      ]
    },
    {
      "cell_type": "code",
      "execution_count": null,
      "metadata": {
        "id": "NjO2oIaV84_-"
      },
      "outputs": [],
      "source": [
        "importA = True #Make it false for the firstTime\n",
        "if importA:\n",
        "  ipca = joblib.load('/content/drive/MyDrive/SML Project/RoadAccidentDatabaseNumpy/ipca_model.pkl')\n",
        "  x_train_pca = np.load('/content/drive/MyDrive/SML Project/RoadAccidentDatabaseNumpy/X_train_pca.npy')\n",
        "  x_test_pca = np.load('/content/drive/MyDrive/SML Project/RoadAccidentDatabaseNumpy/X_test_pca.npy')\n",
        "  y_train = np.load('/content/drive/MyDrive/SML Project/RoadAccidentDatabaseNumpy/y_train.npy')\n",
        "  y_test = np.load('/content/drive/MyDrive/SML Project/RoadAccidentDatabaseNumpy/y_test_sampled.npy')\n",
        "else:\n",
        "  ipca = IncrementalPCA(n_components=100)  # Adjust the number of components as needed\n",
        "  ipca.fit(x_train_flat) #Fit the data and create the transformation matrix.# Save the fitted IPCA object to a file\n",
        "  joblib.dump(ipca, r'/content/drive/MyDrive/SML Project/RoadAccidentDatabaseNumpy/ipca_model.pkl')\n",
        "\n",
        "  x_train_pca = ipca.transform(x_train_flat)\n",
        "  np.save(r'/content/drive/MyDrive/SML Project/RoadAccidentDatabaseNumpy/X_train_pca.npy', x_train_pca)\n",
        "  np.save(r'/content/drive/MyDrive/SML Project/RoadAccidentDatabaseNumpy/y_train.npy', y_train)\n",
        "\n",
        "  x_test_pca = ipca.transform(x_test_flat)\n",
        "  np.save(r'/content/drive/MyDrive/SML Project/RoadAccidentDatabaseNumpy/X_test_pca.npy', x_test_pca)\n",
        "  np.save(r'/content/drive/MyDrive/SML Project/RoadAccidentDatabaseNumpy/y_test_sampled.npy', y_test)"
      ]
    },
    {
      "cell_type": "markdown",
      "metadata": {
        "id": "TzsR5jDL84_-"
      },
      "source": [
        "Applying Quadratic Discriminant Analysis"
      ]
    },
    {
      "cell_type": "code",
      "execution_count": null,
      "metadata": {
        "id": "I1pJ1FZf84_-",
        "colab": {
          "base_uri": "https://localhost:8080/"
        },
        "outputId": "4236679a-a522-42fb-f0a1-d02c54fa19d8"
      },
      "outputs": [
        {
          "output_type": "stream",
          "name": "stdout",
          "text": [
            "Accuracy: 0.792\n"
          ]
        }
      ],
      "source": [
        "# Create QDA classifier\n",
        "qda = QuadraticDiscriminantAnalysis()\n",
        "\n",
        "# Train the classifier\n",
        "qda.fit(x_train_pca, y_train)\n",
        "\n",
        "# Predict on the test set\n",
        "y_pred = qda.predict(x_test_pca)\n",
        "\n",
        "# Calculate accuracy\n",
        "accuracy = accuracy_score(y_test, y_pred)\n",
        "print(\"Accuracy:\", accuracy)"
      ]
    },
    {
      "cell_type": "markdown",
      "metadata": {
        "id": "xp-wYD_H84_-"
      },
      "source": [
        "Applying Adaboost Classification"
      ]
    },
    {
      "cell_type": "code",
      "execution_count": null,
      "metadata": {
        "id": "gG5CXdXt84_-",
        "colab": {
          "base_uri": "https://localhost:8080/"
        },
        "outputId": "aa9e8601-c35e-4f1a-b21e-15f146998690"
      },
      "outputs": [
        {
          "output_type": "stream",
          "name": "stdout",
          "text": [
            "Accuracy: 0.811\n"
          ]
        }
      ],
      "source": [
        "# Create AdaBoost classifier\n",
        "ada_boost = AdaBoostClassifier()\n",
        "\n",
        "# Train the classifier\n",
        "ada_boost.fit(x_train_pca, y_train)\n",
        "\n",
        "# Predict on the test set\n",
        "y_pred = ada_boost.predict(x_test_pca)\n",
        "\n",
        "# Calculate accuracy\n",
        "accuracy = accuracy_score(y_test, y_pred)\n",
        "print(\"Accuracy:\", accuracy)\n"
      ]
    },
    {
      "cell_type": "markdown",
      "metadata": {
        "id": "VjOhUt9U84_-"
      },
      "source": [
        "Applying Gradient Boosting"
      ]
    },
    {
      "cell_type": "code",
      "execution_count": null,
      "metadata": {
        "id": "TBykOWoF84_-",
        "colab": {
          "base_uri": "https://localhost:8080/"
        },
        "outputId": "6b16fa2c-1776-48e7-8ae4-e9dd20fedd39"
      },
      "outputs": [
        {
          "output_type": "stream",
          "name": "stdout",
          "text": [
            "Accuracy: 0.724\n"
          ]
        }
      ],
      "source": [
        "# # Create Gradient Boosting classifier\n",
        "# gradient_boosting = GradientBoostingClassifier()\n",
        "\n",
        "# # Train the classifier\n",
        "# gradient_boosting.fit(x_train_pca, y_train)\n",
        "\n",
        "# # Predict on the test set\n",
        "# y_pred = gradient_boosting.predict(x_test_pca)\n",
        "\n",
        "# # Calculate accuracy\n",
        "# accuracy = accuracy_score(y_test, y_pred)\n",
        "# print(\"Accuracy:\", accuracy)"
      ]
    },
    {
      "cell_type": "markdown",
      "metadata": {
        "id": "FddWtzjg84_-"
      },
      "source": [
        "Applying Random Forest"
      ]
    },
    {
      "cell_type": "code",
      "execution_count": null,
      "metadata": {
        "id": "bE-MewPN84__",
        "colab": {
          "base_uri": "https://localhost:8080/"
        },
        "outputId": "5a0806ee-fafa-4013-d531-2fdf70642629"
      },
      "outputs": [
        {
          "output_type": "stream",
          "name": "stdout",
          "text": [
            "Accuracy: 0.799\n"
          ]
        }
      ],
      "source": [
        "# Create Random Forest classifier\n",
        "random_forest = RandomForestClassifier()\n",
        "\n",
        "# Train the classifier\n",
        "random_forest.fit(x_train_pca, y_train)\n",
        "\n",
        "# Predict on the test set\n",
        "y_pred = random_forest.predict(x_test_pca)\n",
        "\n",
        "# Calculate accuracy\n",
        "accuracy = accuracy_score(y_test, y_pred)\n",
        "print(\"Accuracy:\", accuracy)"
      ]
    },
    {
      "cell_type": "markdown",
      "source": [
        "Deep Layer Neural Network"
      ],
      "metadata": {
        "id": "pBooxkGcadr5"
      }
    },
    {
      "cell_type": "code",
      "source": [
        "#Define the model and its layers\n",
        "model = Sequential([\n",
        "    Dense(256, activation='relu', input_shape=(x_train_pca.shape[1],)),  # Increase the number of neurons in the first layer\n",
        "    Dropout(0.5),  # Adding dropout for regularization\n",
        "    Dense(128, activation='relu'),  # Decrease the number of neurons in the second layer\n",
        "    Dropout(0.4),  # Adjust dropout rate\n",
        "    Dense(64, activation='relu'),  # Decrease the number of neurons in the third layer\n",
        "    Dropout(0.3),  # Adjust dropout rate\n",
        "    Dense(32, activation='relu'),  # Adding another hidden layer with fewer neurons\n",
        "    Dropout(0.2),  # Adjust dropout rate\n",
        "    Dense(1, activation='sigmoid')  # Output layer with sigmoid activation for binary classification\n",
        "])\n",
        "\n",
        "# Compile the model\n",
        "model.compile(optimizer='adam', loss='binary_crossentropy', metrics=['accuracy'])\n",
        "\n",
        "# Define early stopping criteria\n",
        "early_stopping = EarlyStopping(monitor='accuracy', patience=10, restore_best_weights=True)\n",
        "\n",
        "# Train the model with early stopping\n",
        "history = model.fit(x_train_pca, y_train, epochs=50, batch_size=32, callbacks=[early_stopping])\n",
        "\n",
        "loss, accuracy = model.evaluate(x_test_pca, y_test)\n",
        "print(\"Test Accuracy:\", accuracy*100)\n"
      ],
      "metadata": {
        "colab": {
          "base_uri": "https://localhost:8080/"
        },
        "id": "81V9HWeKadai",
        "outputId": "8337207e-d6b5-4358-9f3b-857102288a5c"
      },
      "execution_count": null,
      "outputs": [
        {
          "output_type": "stream",
          "name": "stdout",
          "text": [
            "Epoch 1/50\n",
            "313/313 [==============================] - ETA: 0s - loss: 133.3054 - accuracy: 0.5708"
          ]
        },
        {
          "output_type": "stream",
          "name": "stderr",
          "text": [
            "WARNING:tensorflow:Early stopping conditioned on metric `val_loss` which is not available. Available metrics are: loss,accuracy\n"
          ]
        },
        {
          "output_type": "stream",
          "name": "stdout",
          "text": [
            "\b\b\b\b\b\b\b\b\b\b\b\b\b\b\b\b\b\b\b\b\b\b\b\b\b\b\b\b\b\b\b\b\b\b\b\b\b\b\b\b\b\b\b\b\b\b\b\b\b\b\b\b\b\b\b\b\b\b\b\b\b\b\b\b\b\b\b\b\b\b\b\b\b\b\b\b\b\b\b\b\b\b\b\b\b\b\r313/313 [==============================] - 6s 8ms/step - loss: 133.3054 - accuracy: 0.5708\n",
            "Epoch 2/50\n",
            "309/313 [============================>.] - ETA: 0s - loss: 15.6030 - accuracy: 0.5620"
          ]
        },
        {
          "output_type": "stream",
          "name": "stderr",
          "text": [
            "WARNING:tensorflow:Early stopping conditioned on metric `val_loss` which is not available. Available metrics are: loss,accuracy\n"
          ]
        },
        {
          "output_type": "stream",
          "name": "stdout",
          "text": [
            "\b\b\b\b\b\b\b\b\b\b\b\b\b\b\b\b\b\b\b\b\b\b\b\b\b\b\b\b\b\b\b\b\b\b\b\b\b\b\b\b\b\b\b\b\b\b\b\b\b\b\b\b\b\b\b\b\b\b\b\b\b\b\b\b\b\b\b\b\b\b\b\b\b\b\b\b\b\b\b\b\b\b\b\b\b\r313/313 [==============================] - 3s 10ms/step - loss: 15.4653 - accuracy: 0.5621\n",
            "Epoch 3/50\n",
            "310/313 [============================>.] - ETA: 0s - loss: 3.7088 - accuracy: 0.5336"
          ]
        },
        {
          "output_type": "stream",
          "name": "stderr",
          "text": [
            "WARNING:tensorflow:Early stopping conditioned on metric `val_loss` which is not available. Available metrics are: loss,accuracy\n"
          ]
        },
        {
          "output_type": "stream",
          "name": "stdout",
          "text": [
            "\b\b\b\b\b\b\b\b\b\b\b\b\b\b\b\b\b\b\b\b\b\b\b\b\b\b\b\b\b\b\b\b\b\b\b\b\b\b\b\b\b\b\b\b\b\b\b\b\b\b\b\b\b\b\b\b\b\b\b\b\b\b\b\b\b\b\b\b\b\b\b\b\b\b\b\b\b\b\b\b\b\b\b\b\r313/313 [==============================] - 1s 5ms/step - loss: 3.7025 - accuracy: 0.5348\n",
            "Epoch 4/50\n",
            "308/313 [============================>.] - ETA: 0s - loss: 2.0756 - accuracy: 0.5191"
          ]
        },
        {
          "output_type": "stream",
          "name": "stderr",
          "text": [
            "WARNING:tensorflow:Early stopping conditioned on metric `val_loss` which is not available. Available metrics are: loss,accuracy\n"
          ]
        },
        {
          "output_type": "stream",
          "name": "stdout",
          "text": [
            "\b\b\b\b\b\b\b\b\b\b\b\b\b\b\b\b\b\b\b\b\b\b\b\b\b\b\b\b\b\b\b\b\b\b\b\b\b\b\b\b\b\b\b\b\b\b\b\b\b\b\b\b\b\b\b\b\b\b\b\b\b\b\b\b\b\b\b\b\b\b\b\b\b\b\b\b\b\b\b\b\b\b\b\b\r313/313 [==============================] - 1s 3ms/step - loss: 2.0615 - accuracy: 0.5193\n",
            "Epoch 5/50\n",
            "309/313 [============================>.] - ETA: 0s - loss: 1.3532 - accuracy: 0.5372"
          ]
        },
        {
          "output_type": "stream",
          "name": "stderr",
          "text": [
            "WARNING:tensorflow:Early stopping conditioned on metric `val_loss` which is not available. Available metrics are: loss,accuracy\n"
          ]
        },
        {
          "output_type": "stream",
          "name": "stdout",
          "text": [
            "\b\b\b\b\b\b\b\b\b\b\b\b\b\b\b\b\b\b\b\b\b\b\b\b\b\b\b\b\b\b\b\b\b\b\b\b\b\b\b\b\b\b\b\b\b\b\b\b\b\b\b\b\b\b\b\b\b\b\b\b\b\b\b\b\b\b\b\b\b\b\b\b\b\b\b\b\b\b\b\b\b\b\b\b\r313/313 [==============================] - 1s 3ms/step - loss: 1.3486 - accuracy: 0.5370\n",
            "Epoch 6/50\n",
            "303/313 [============================>.] - ETA: 0s - loss: 1.1566 - accuracy: 0.5367"
          ]
        },
        {
          "output_type": "stream",
          "name": "stderr",
          "text": [
            "WARNING:tensorflow:Early stopping conditioned on metric `val_loss` which is not available. Available metrics are: loss,accuracy\n"
          ]
        },
        {
          "output_type": "stream",
          "name": "stdout",
          "text": [
            "\b\b\b\b\b\b\b\b\b\b\b\b\b\b\b\b\b\b\b\b\b\b\b\b\b\b\b\b\b\b\b\b\b\b\b\b\b\b\b\b\b\b\b\b\b\b\b\b\b\b\b\b\b\b\b\b\b\b\b\b\b\b\b\b\b\b\b\b\b\b\b\b\b\b\b\b\b\b\b\b\b\b\b\b\r313/313 [==============================] - 1s 3ms/step - loss: 1.1453 - accuracy: 0.5378\n",
            "Epoch 7/50\n",
            "310/313 [============================>.] - ETA: 0s - loss: 1.0341 - accuracy: 0.5321"
          ]
        },
        {
          "output_type": "stream",
          "name": "stderr",
          "text": [
            "WARNING:tensorflow:Early stopping conditioned on metric `val_loss` which is not available. Available metrics are: loss,accuracy\n"
          ]
        },
        {
          "output_type": "stream",
          "name": "stdout",
          "text": [
            "\b\b\b\b\b\b\b\b\b\b\b\b\b\b\b\b\b\b\b\b\b\b\b\b\b\b\b\b\b\b\b\b\b\b\b\b\b\b\b\b\b\b\b\b\b\b\b\b\b\b\b\b\b\b\b\b\b\b\b\b\b\b\b\b\b\b\b\b\b\b\b\b\b\b\b\b\b\b\b\b\b\b\b\b\r313/313 [==============================] - 1s 3ms/step - loss: 1.0382 - accuracy: 0.5328\n",
            "Epoch 8/50\n",
            "301/313 [===========================>..] - ETA: 0s - loss: 0.9380 - accuracy: 0.5519"
          ]
        },
        {
          "output_type": "stream",
          "name": "stderr",
          "text": [
            "WARNING:tensorflow:Early stopping conditioned on metric `val_loss` which is not available. Available metrics are: loss,accuracy\n"
          ]
        },
        {
          "output_type": "stream",
          "name": "stdout",
          "text": [
            "\b\b\b\b\b\b\b\b\b\b\b\b\b\b\b\b\b\b\b\b\b\b\b\b\b\b\b\b\b\b\b\b\b\b\b\b\b\b\b\b\b\b\b\b\b\b\b\b\b\b\b\b\b\b\b\b\b\b\b\b\b\b\b\b\b\b\b\b\b\b\b\b\b\b\b\b\b\b\b\b\b\b\b\b\r313/313 [==============================] - 1s 3ms/step - loss: 0.9305 - accuracy: 0.5518\n",
            "Epoch 9/50\n",
            "310/313 [============================>.] - ETA: 0s - loss: 0.8511 - accuracy: 0.5298"
          ]
        },
        {
          "output_type": "stream",
          "name": "stderr",
          "text": [
            "WARNING:tensorflow:Early stopping conditioned on metric `val_loss` which is not available. Available metrics are: loss,accuracy\n"
          ]
        },
        {
          "output_type": "stream",
          "name": "stdout",
          "text": [
            "\b\b\b\b\b\b\b\b\b\b\b\b\b\b\b\b\b\b\b\b\b\b\b\b\b\b\b\b\b\b\b\b\b\b\b\b\b\b\b\b\b\b\b\b\b\b\b\b\b\b\b\b\b\b\b\b\b\b\b\b\b\b\b\b\b\b\b\b\b\b\b\b\b\b\b\b\b\b\b\b\b\b\b\b\r313/313 [==============================] - 1s 3ms/step - loss: 0.8500 - accuracy: 0.5298\n",
            "Epoch 10/50\n",
            "306/313 [============================>.] - ETA: 0s - loss: 0.8283 - accuracy: 0.5463"
          ]
        },
        {
          "output_type": "stream",
          "name": "stderr",
          "text": [
            "WARNING:tensorflow:Early stopping conditioned on metric `val_loss` which is not available. Available metrics are: loss,accuracy\n"
          ]
        },
        {
          "output_type": "stream",
          "name": "stdout",
          "text": [
            "\b\b\b\b\b\b\b\b\b\b\b\b\b\b\b\b\b\b\b\b\b\b\b\b\b\b\b\b\b\b\b\b\b\b\b\b\b\b\b\b\b\b\b\b\b\b\b\b\b\b\b\b\b\b\b\b\b\b\b\b\b\b\b\b\b\b\b\b\b\b\b\b\b\b\b\b\b\b\b\b\b\b\b\b\r313/313 [==============================] - 1s 3ms/step - loss: 0.8265 - accuracy: 0.5463\n",
            "Epoch 11/50\n",
            "307/313 [============================>.] - ETA: 0s - loss: 0.8028 - accuracy: 0.5433"
          ]
        },
        {
          "output_type": "stream",
          "name": "stderr",
          "text": [
            "WARNING:tensorflow:Early stopping conditioned on metric `val_loss` which is not available. Available metrics are: loss,accuracy\n"
          ]
        },
        {
          "output_type": "stream",
          "name": "stdout",
          "text": [
            "\b\b\b\b\b\b\b\b\b\b\b\b\b\b\b\b\b\b\b\b\b\b\b\b\b\b\b\b\b\b\b\b\b\b\b\b\b\b\b\b\b\b\b\b\b\b\b\b\b\b\b\b\b\b\b\b\b\b\b\b\b\b\b\b\b\b\b\b\b\b\b\b\b\b\b\b\b\b\b\b\b\b\b\b\r313/313 [==============================] - 1s 3ms/step - loss: 0.8015 - accuracy: 0.5421\n",
            "Epoch 12/50\n",
            "306/313 [============================>.] - ETA: 0s - loss: 0.7526 - accuracy: 0.5568"
          ]
        },
        {
          "output_type": "stream",
          "name": "stderr",
          "text": [
            "WARNING:tensorflow:Early stopping conditioned on metric `val_loss` which is not available. Available metrics are: loss,accuracy\n"
          ]
        },
        {
          "output_type": "stream",
          "name": "stdout",
          "text": [
            "\b\b\b\b\b\b\b\b\b\b\b\b\b\b\b\b\b\b\b\b\b\b\b\b\b\b\b\b\b\b\b\b\b\b\b\b\b\b\b\b\b\b\b\b\b\b\b\b\b\b\b\b\b\b\b\b\b\b\b\b\b\b\b\b\b\b\b\b\b\b\b\b\b\b\b\b\b\b\b\b\b\b\b\b\r313/313 [==============================] - 1s 3ms/step - loss: 0.7510 - accuracy: 0.5576\n",
            "Epoch 13/50\n",
            "309/313 [============================>.] - ETA: 0s - loss: 0.7805 - accuracy: 0.5720"
          ]
        },
        {
          "output_type": "stream",
          "name": "stderr",
          "text": [
            "WARNING:tensorflow:Early stopping conditioned on metric `val_loss` which is not available. Available metrics are: loss,accuracy\n"
          ]
        },
        {
          "output_type": "stream",
          "name": "stdout",
          "text": [
            "\b\b\b\b\b\b\b\b\b\b\b\b\b\b\b\b\b\b\b\b\b\b\b\b\b\b\b\b\b\b\b\b\b\b\b\b\b\b\b\b\b\b\b\b\b\b\b\b\b\b\b\b\b\b\b\b\b\b\b\b\b\b\b\b\b\b\b\b\b\b\b\b\b\b\b\b\b\b\b\b\b\b\b\b\r313/313 [==============================] - 1s 4ms/step - loss: 0.7798 - accuracy: 0.5724\n",
            "Epoch 14/50\n",
            "308/313 [============================>.] - ETA: 0s - loss: 0.7128 - accuracy: 0.5796"
          ]
        },
        {
          "output_type": "stream",
          "name": "stderr",
          "text": [
            "WARNING:tensorflow:Early stopping conditioned on metric `val_loss` which is not available. Available metrics are: loss,accuracy\n"
          ]
        },
        {
          "output_type": "stream",
          "name": "stdout",
          "text": [
            "\b\b\b\b\b\b\b\b\b\b\b\b\b\b\b\b\b\b\b\b\b\b\b\b\b\b\b\b\b\b\b\b\b\b\b\b\b\b\b\b\b\b\b\b\b\b\b\b\b\b\b\b\b\b\b\b\b\b\b\b\b\b\b\b\b\b\b\b\b\b\b\b\b\b\b\b\b\b\b\b\b\b\b\b\r313/313 [==============================] - 2s 5ms/step - loss: 0.7124 - accuracy: 0.5794\n",
            "Epoch 15/50\n",
            "306/313 [============================>.] - ETA: 0s - loss: 0.7050 - accuracy: 0.6067"
          ]
        },
        {
          "output_type": "stream",
          "name": "stderr",
          "text": [
            "WARNING:tensorflow:Early stopping conditioned on metric `val_loss` which is not available. Available metrics are: loss,accuracy\n"
          ]
        },
        {
          "output_type": "stream",
          "name": "stdout",
          "text": [
            "\b\b\b\b\b\b\b\b\b\b\b\b\b\b\b\b\b\b\b\b\b\b\b\b\b\b\b\b\b\b\b\b\b\b\b\b\b\b\b\b\b\b\b\b\b\b\b\b\b\b\b\b\b\b\b\b\b\b\b\b\b\b\b\b\b\b\b\b\b\b\b\b\b\b\b\b\b\b\b\b\b\b\b\b\r313/313 [==============================] - 2s 6ms/step - loss: 0.7038 - accuracy: 0.6065\n",
            "Epoch 16/50\n",
            "313/313 [==============================] - ETA: 0s - loss: 0.6569 - accuracy: 0.6315"
          ]
        },
        {
          "output_type": "stream",
          "name": "stderr",
          "text": [
            "WARNING:tensorflow:Early stopping conditioned on metric `val_loss` which is not available. Available metrics are: loss,accuracy\n"
          ]
        },
        {
          "output_type": "stream",
          "name": "stdout",
          "text": [
            "\b\b\b\b\b\b\b\b\b\b\b\b\b\b\b\b\b\b\b\b\b\b\b\b\b\b\b\b\b\b\b\b\b\b\b\b\b\b\b\b\b\b\b\b\b\b\b\b\b\b\b\b\b\b\b\b\b\b\b\b\b\b\b\b\b\b\b\b\b\b\b\b\b\b\b\b\b\b\b\b\b\b\b\b\r313/313 [==============================] - 2s 6ms/step - loss: 0.6569 - accuracy: 0.6315\n",
            "Epoch 17/50\n",
            "313/313 [==============================] - ETA: 0s - loss: 0.6322 - accuracy: 0.6549"
          ]
        },
        {
          "output_type": "stream",
          "name": "stderr",
          "text": [
            "WARNING:tensorflow:Early stopping conditioned on metric `val_loss` which is not available. Available metrics are: loss,accuracy\n"
          ]
        },
        {
          "output_type": "stream",
          "name": "stdout",
          "text": [
            "\b\b\b\b\b\b\b\b\b\b\b\b\b\b\b\b\b\b\b\b\b\b\b\b\b\b\b\b\b\b\b\b\b\b\b\b\b\b\b\b\b\b\b\b\b\b\b\b\b\b\b\b\b\b\b\b\b\b\b\b\b\b\b\b\b\b\b\b\b\b\b\b\b\b\b\b\b\b\b\b\b\b\b\b\r313/313 [==============================] - 2s 6ms/step - loss: 0.6322 - accuracy: 0.6549\n",
            "Epoch 18/50\n",
            "309/313 [============================>.] - ETA: 0s - loss: 0.6358 - accuracy: 0.6752"
          ]
        },
        {
          "output_type": "stream",
          "name": "stderr",
          "text": [
            "WARNING:tensorflow:Early stopping conditioned on metric `val_loss` which is not available. Available metrics are: loss,accuracy\n"
          ]
        },
        {
          "output_type": "stream",
          "name": "stdout",
          "text": [
            "\b\b\b\b\b\b\b\b\b\b\b\b\b\b\b\b\b\b\b\b\b\b\b\b\b\b\b\b\b\b\b\b\b\b\b\b\b\b\b\b\b\b\b\b\b\b\b\b\b\b\b\b\b\b\b\b\b\b\b\b\b\b\b\b\b\b\b\b\b\b\b\b\b\b\b\b\b\b\b\b\b\b\b\b\r313/313 [==============================] - 2s 6ms/step - loss: 0.6355 - accuracy: 0.6751\n",
            "Epoch 19/50\n",
            "312/313 [============================>.] - ETA: 0s - loss: 0.6061 - accuracy: 0.6893"
          ]
        },
        {
          "output_type": "stream",
          "name": "stderr",
          "text": [
            "WARNING:tensorflow:Early stopping conditioned on metric `val_loss` which is not available. Available metrics are: loss,accuracy\n"
          ]
        },
        {
          "output_type": "stream",
          "name": "stdout",
          "text": [
            "\b\b\b\b\b\b\b\b\b\b\b\b\b\b\b\b\b\b\b\b\b\b\b\b\b\b\b\b\b\b\b\b\b\b\b\b\b\b\b\b\b\b\b\b\b\b\b\b\b\b\b\b\b\b\b\b\b\b\b\b\b\b\b\b\b\b\b\b\b\b\b\b\b\b\b\b\b\b\b\b\b\b\b\b\r313/313 [==============================] - 2s 6ms/step - loss: 0.6056 - accuracy: 0.6897\n",
            "Epoch 20/50\n",
            "311/313 [============================>.] - ETA: 0s - loss: 0.5938 - accuracy: 0.7057"
          ]
        },
        {
          "output_type": "stream",
          "name": "stderr",
          "text": [
            "WARNING:tensorflow:Early stopping conditioned on metric `val_loss` which is not available. Available metrics are: loss,accuracy\n"
          ]
        },
        {
          "output_type": "stream",
          "name": "stdout",
          "text": [
            "\b\b\b\b\b\b\b\b\b\b\b\b\b\b\b\b\b\b\b\b\b\b\b\b\b\b\b\b\b\b\b\b\b\b\b\b\b\b\b\b\b\b\b\b\b\b\b\b\b\b\b\b\b\b\b\b\b\b\b\b\b\b\b\b\b\b\b\b\b\b\b\b\b\b\b\b\b\b\b\b\b\b\b\b\r313/313 [==============================] - 2s 7ms/step - loss: 0.5938 - accuracy: 0.7053\n",
            "Epoch 21/50\n",
            "309/313 [============================>.] - ETA: 0s - loss: 0.5452 - accuracy: 0.7282"
          ]
        },
        {
          "output_type": "stream",
          "name": "stderr",
          "text": [
            "WARNING:tensorflow:Early stopping conditioned on metric `val_loss` which is not available. Available metrics are: loss,accuracy\n"
          ]
        },
        {
          "output_type": "stream",
          "name": "stdout",
          "text": [
            "\b\b\b\b\b\b\b\b\b\b\b\b\b\b\b\b\b\b\b\b\b\b\b\b\b\b\b\b\b\b\b\b\b\b\b\b\b\b\b\b\b\b\b\b\b\b\b\b\b\b\b\b\b\b\b\b\b\b\b\b\b\b\b\b\b\b\b\b\b\b\b\b\b\b\b\b\b\b\b\b\b\b\b\b\r313/313 [==============================] - 3s 10ms/step - loss: 0.5447 - accuracy: 0.7281\n",
            "Epoch 22/50\n",
            "313/313 [==============================] - ETA: 0s - loss: 0.5263 - accuracy: 0.7337"
          ]
        },
        {
          "output_type": "stream",
          "name": "stderr",
          "text": [
            "WARNING:tensorflow:Early stopping conditioned on metric `val_loss` which is not available. Available metrics are: loss,accuracy\n"
          ]
        },
        {
          "output_type": "stream",
          "name": "stdout",
          "text": [
            "\b\b\b\b\b\b\b\b\b\b\b\b\b\b\b\b\b\b\b\b\b\b\b\b\b\b\b\b\b\b\b\b\b\b\b\b\b\b\b\b\b\b\b\b\b\b\b\b\b\b\b\b\b\b\b\b\b\b\b\b\b\b\b\b\b\b\b\b\b\b\b\b\b\b\b\b\b\b\b\b\b\b\b\b\r313/313 [==============================] - 3s 9ms/step - loss: 0.5263 - accuracy: 0.7337\n",
            "Epoch 23/50\n",
            "306/313 [============================>.] - ETA: 0s - loss: 0.4795 - accuracy: 0.7535"
          ]
        },
        {
          "output_type": "stream",
          "name": "stderr",
          "text": [
            "WARNING:tensorflow:Early stopping conditioned on metric `val_loss` which is not available. Available metrics are: loss,accuracy\n"
          ]
        },
        {
          "output_type": "stream",
          "name": "stdout",
          "text": [
            "\b\b\b\b\b\b\b\b\b\b\b\b\b\b\b\b\b\b\b\b\b\b\b\b\b\b\b\b\b\b\b\b\b\b\b\b\b\b\b\b\b\b\b\b\b\b\b\b\b\b\b\b\b\b\b\b\b\b\b\b\b\b\b\b\b\b\b\b\b\b\b\b\b\b\b\b\b\b\b\b\b\b\b\b\r313/313 [==============================] - 2s 5ms/step - loss: 0.4790 - accuracy: 0.7534\n",
            "Epoch 24/50\n",
            "306/313 [============================>.] - ETA: 0s - loss: 0.4494 - accuracy: 0.7770"
          ]
        },
        {
          "output_type": "stream",
          "name": "stderr",
          "text": [
            "WARNING:tensorflow:Early stopping conditioned on metric `val_loss` which is not available. Available metrics are: loss,accuracy\n"
          ]
        },
        {
          "output_type": "stream",
          "name": "stdout",
          "text": [
            "\b\b\b\b\b\b\b\b\b\b\b\b\b\b\b\b\b\b\b\b\b\b\b\b\b\b\b\b\b\b\b\b\b\b\b\b\b\b\b\b\b\b\b\b\b\b\b\b\b\b\b\b\b\b\b\b\b\b\b\b\b\b\b\b\b\b\b\b\b\b\b\b\b\b\b\b\b\b\b\b\b\b\b\b\r313/313 [==============================] - 2s 5ms/step - loss: 0.4479 - accuracy: 0.7775\n",
            "Epoch 25/50\n",
            "297/313 [===========================>..] - ETA: 0s - loss: 0.4171 - accuracy: 0.7920"
          ]
        },
        {
          "output_type": "stream",
          "name": "stderr",
          "text": [
            "WARNING:tensorflow:Early stopping conditioned on metric `val_loss` which is not available. Available metrics are: loss,accuracy\n"
          ]
        },
        {
          "output_type": "stream",
          "name": "stdout",
          "text": [
            "\b\b\b\b\b\b\b\b\b\b\b\b\b\b\b\b\b\b\b\b\b\b\b\b\b\b\b\b\b\b\b\b\b\b\b\b\b\b\b\b\b\b\b\b\b\b\b\b\b\b\b\b\b\b\b\b\b\b\b\b\b\b\b\b\b\b\b\b\b\b\b\b\b\b\b\b\b\b\b\b\b\b\b\b\r313/313 [==============================] - 2s 5ms/step - loss: 0.4160 - accuracy: 0.7925\n",
            "Epoch 26/50\n",
            "313/313 [==============================] - ETA: 0s - loss: 0.3758 - accuracy: 0.8150"
          ]
        },
        {
          "output_type": "stream",
          "name": "stderr",
          "text": [
            "WARNING:tensorflow:Early stopping conditioned on metric `val_loss` which is not available. Available metrics are: loss,accuracy\n"
          ]
        },
        {
          "output_type": "stream",
          "name": "stdout",
          "text": [
            "\b\b\b\b\b\b\b\b\b\b\b\b\b\b\b\b\b\b\b\b\b\b\b\b\b\b\b\b\b\b\b\b\b\b\b\b\b\b\b\b\b\b\b\b\b\b\b\b\b\b\b\b\b\b\b\b\b\b\b\b\b\b\b\b\b\b\b\b\b\b\b\b\b\b\b\b\b\b\b\b\b\b\b\b\r313/313 [==============================] - 1s 3ms/step - loss: 0.3758 - accuracy: 0.8150\n",
            "Epoch 27/50\n",
            "297/313 [===========================>..] - ETA: 0s - loss: 0.3620 - accuracy: 0.8232"
          ]
        },
        {
          "output_type": "stream",
          "name": "stderr",
          "text": [
            "WARNING:tensorflow:Early stopping conditioned on metric `val_loss` which is not available. Available metrics are: loss,accuracy\n"
          ]
        },
        {
          "output_type": "stream",
          "name": "stdout",
          "text": [
            "\b\b\b\b\b\b\b\b\b\b\b\b\b\b\b\b\b\b\b\b\b\b\b\b\b\b\b\b\b\b\b\b\b\b\b\b\b\b\b\b\b\b\b\b\b\b\b\b\b\b\b\b\b\b\b\b\b\b\b\b\b\b\b\b\b\b\b\b\b\b\b\b\b\b\b\b\b\b\b\b\b\b\b\b\r313/313 [==============================] - 1s 3ms/step - loss: 0.3641 - accuracy: 0.8238\n",
            "Epoch 28/50\n",
            "313/313 [==============================] - ETA: 0s - loss: 0.3100 - accuracy: 0.8699"
          ]
        },
        {
          "output_type": "stream",
          "name": "stderr",
          "text": [
            "WARNING:tensorflow:Early stopping conditioned on metric `val_loss` which is not available. Available metrics are: loss,accuracy\n"
          ]
        },
        {
          "output_type": "stream",
          "name": "stdout",
          "text": [
            "\b\b\b\b\b\b\b\b\b\b\b\b\b\b\b\b\b\b\b\b\b\b\b\b\b\b\b\b\b\b\b\b\b\b\b\b\b\b\b\b\b\b\b\b\b\b\b\b\b\b\b\b\b\b\b\b\b\b\b\b\b\b\b\b\b\b\b\b\b\b\b\b\b\b\b\b\b\b\b\b\b\b\b\b\r313/313 [==============================] - 1s 3ms/step - loss: 0.3100 - accuracy: 0.8699\n",
            "Epoch 29/50\n",
            "301/313 [===========================>..] - ETA: 0s - loss: 0.2683 - accuracy: 0.8955"
          ]
        },
        {
          "output_type": "stream",
          "name": "stderr",
          "text": [
            "WARNING:tensorflow:Early stopping conditioned on metric `val_loss` which is not available. Available metrics are: loss,accuracy\n"
          ]
        },
        {
          "output_type": "stream",
          "name": "stdout",
          "text": [
            "\b\b\b\b\b\b\b\b\b\b\b\b\b\b\b\b\b\b\b\b\b\b\b\b\b\b\b\b\b\b\b\b\b\b\b\b\b\b\b\b\b\b\b\b\b\b\b\b\b\b\b\b\b\b\b\b\b\b\b\b\b\b\b\b\b\b\b\b\b\b\b\b\b\b\b\b\b\b\b\b\b\b\b\b\r313/313 [==============================] - 1s 3ms/step - loss: 0.2683 - accuracy: 0.8957\n",
            "Epoch 30/50\n",
            "305/313 [============================>.] - ETA: 0s - loss: 0.2491 - accuracy: 0.9083"
          ]
        },
        {
          "output_type": "stream",
          "name": "stderr",
          "text": [
            "WARNING:tensorflow:Early stopping conditioned on metric `val_loss` which is not available. Available metrics are: loss,accuracy\n"
          ]
        },
        {
          "output_type": "stream",
          "name": "stdout",
          "text": [
            "\b\b\b\b\b\b\b\b\b\b\b\b\b\b\b\b\b\b\b\b\b\b\b\b\b\b\b\b\b\b\b\b\b\b\b\b\b\b\b\b\b\b\b\b\b\b\b\b\b\b\b\b\b\b\b\b\b\b\b\b\b\b\b\b\b\b\b\b\b\b\b\b\b\b\b\b\b\b\b\b\b\b\b\b\r313/313 [==============================] - 1s 4ms/step - loss: 0.2517 - accuracy: 0.9072\n",
            "Epoch 31/50\n",
            "307/313 [============================>.] - ETA: 0s - loss: 0.2221 - accuracy: 0.9142"
          ]
        },
        {
          "output_type": "stream",
          "name": "stderr",
          "text": [
            "WARNING:tensorflow:Early stopping conditioned on metric `val_loss` which is not available. Available metrics are: loss,accuracy\n"
          ]
        },
        {
          "output_type": "stream",
          "name": "stdout",
          "text": [
            "\b\b\b\b\b\b\b\b\b\b\b\b\b\b\b\b\b\b\b\b\b\b\b\b\b\b\b\b\b\b\b\b\b\b\b\b\b\b\b\b\b\b\b\b\b\b\b\b\b\b\b\b\b\b\b\b\b\b\b\b\b\b\b\b\b\b\b\b\b\b\b\b\b\b\b\b\b\b\b\b\b\b\b\b\r313/313 [==============================] - 2s 5ms/step - loss: 0.2221 - accuracy: 0.9139\n",
            "Epoch 32/50\n",
            "302/313 [===========================>..] - ETA: 0s - loss: 0.2146 - accuracy: 0.9235"
          ]
        },
        {
          "output_type": "stream",
          "name": "stderr",
          "text": [
            "WARNING:tensorflow:Early stopping conditioned on metric `val_loss` which is not available. Available metrics are: loss,accuracy\n"
          ]
        },
        {
          "output_type": "stream",
          "name": "stdout",
          "text": [
            "\b\b\b\b\b\b\b\b\b\b\b\b\b\b\b\b\b\b\b\b\b\b\b\b\b\b\b\b\b\b\b\b\b\b\b\b\b\b\b\b\b\b\b\b\b\b\b\b\b\b\b\b\b\b\b\b\b\b\b\b\b\b\b\b\b\b\b\b\b\b\b\b\b\b\b\b\b\b\b\b\b\b\b\b\r313/313 [==============================] - 2s 5ms/step - loss: 0.2146 - accuracy: 0.9229\n",
            "Epoch 33/50\n",
            "301/313 [===========================>..] - ETA: 0s - loss: 0.1983 - accuracy: 0.9215"
          ]
        },
        {
          "output_type": "stream",
          "name": "stderr",
          "text": [
            "WARNING:tensorflow:Early stopping conditioned on metric `val_loss` which is not available. Available metrics are: loss,accuracy\n"
          ]
        },
        {
          "output_type": "stream",
          "name": "stdout",
          "text": [
            "\b\b\b\b\b\b\b\b\b\b\b\b\b\b\b\b\b\b\b\b\b\b\b\b\b\b\b\b\b\b\b\b\b\b\b\b\b\b\b\b\b\b\b\b\b\b\b\b\b\b\b\b\b\b\b\b\b\b\b\b\b\b\b\b\b\b\b\b\b\b\b\b\b\b\b\b\b\b\b\b\b\b\b\b\r313/313 [==============================] - 1s 3ms/step - loss: 0.1976 - accuracy: 0.9221\n",
            "Epoch 34/50\n",
            "301/313 [===========================>..] - ETA: 0s - loss: 0.1833 - accuracy: 0.9300"
          ]
        },
        {
          "output_type": "stream",
          "name": "stderr",
          "text": [
            "WARNING:tensorflow:Early stopping conditioned on metric `val_loss` which is not available. Available metrics are: loss,accuracy\n"
          ]
        },
        {
          "output_type": "stream",
          "name": "stdout",
          "text": [
            "\b\b\b\b\b\b\b\b\b\b\b\b\b\b\b\b\b\b\b\b\b\b\b\b\b\b\b\b\b\b\b\b\b\b\b\b\b\b\b\b\b\b\b\b\b\b\b\b\b\b\b\b\b\b\b\b\b\b\b\b\b\b\b\b\b\b\b\b\b\b\b\b\b\b\b\b\b\b\b\b\b\b\b\b\r313/313 [==============================] - 1s 3ms/step - loss: 0.1824 - accuracy: 0.9297\n",
            "Epoch 35/50\n",
            "300/313 [===========================>..] - ETA: 0s - loss: 0.1735 - accuracy: 0.9380"
          ]
        },
        {
          "output_type": "stream",
          "name": "stderr",
          "text": [
            "WARNING:tensorflow:Early stopping conditioned on metric `val_loss` which is not available. Available metrics are: loss,accuracy\n"
          ]
        },
        {
          "output_type": "stream",
          "name": "stdout",
          "text": [
            "\b\b\b\b\b\b\b\b\b\b\b\b\b\b\b\b\b\b\b\b\b\b\b\b\b\b\b\b\b\b\b\b\b\b\b\b\b\b\b\b\b\b\b\b\b\b\b\b\b\b\b\b\b\b\b\b\b\b\b\b\b\b\b\b\b\b\b\b\b\b\b\b\b\b\b\b\b\b\b\b\b\b\b\b\r313/313 [==============================] - 1s 3ms/step - loss: 0.1740 - accuracy: 0.9376\n",
            "Epoch 36/50\n",
            "304/313 [============================>.] - ETA: 0s - loss: 0.1621 - accuracy: 0.9350"
          ]
        },
        {
          "output_type": "stream",
          "name": "stderr",
          "text": [
            "WARNING:tensorflow:Early stopping conditioned on metric `val_loss` which is not available. Available metrics are: loss,accuracy\n"
          ]
        },
        {
          "output_type": "stream",
          "name": "stdout",
          "text": [
            "\b\b\b\b\b\b\b\b\b\b\b\b\b\b\b\b\b\b\b\b\b\b\b\b\b\b\b\b\b\b\b\b\b\b\b\b\b\b\b\b\b\b\b\b\b\b\b\b\b\b\b\b\b\b\b\b\b\b\b\b\b\b\b\b\b\b\b\b\b\b\b\b\b\b\b\b\b\b\b\b\b\b\b\b\r313/313 [==============================] - 1s 3ms/step - loss: 0.1613 - accuracy: 0.9352\n",
            "Epoch 37/50\n",
            "303/313 [============================>.] - ETA: 0s - loss: 0.1663 - accuracy: 0.9422"
          ]
        },
        {
          "output_type": "stream",
          "name": "stderr",
          "text": [
            "WARNING:tensorflow:Early stopping conditioned on metric `val_loss` which is not available. Available metrics are: loss,accuracy\n"
          ]
        },
        {
          "output_type": "stream",
          "name": "stdout",
          "text": [
            "\b\b\b\b\b\b\b\b\b\b\b\b\b\b\b\b\b\b\b\b\b\b\b\b\b\b\b\b\b\b\b\b\b\b\b\b\b\b\b\b\b\b\b\b\b\b\b\b\b\b\b\b\b\b\b\b\b\b\b\b\b\b\b\b\b\b\b\b\b\b\b\b\b\b\b\b\b\b\b\b\b\b\b\b\r313/313 [==============================] - 1s 3ms/step - loss: 0.1658 - accuracy: 0.9421\n",
            "Epoch 38/50\n",
            "304/313 [============================>.] - ETA: 0s - loss: 0.1680 - accuracy: 0.9438"
          ]
        },
        {
          "output_type": "stream",
          "name": "stderr",
          "text": [
            "WARNING:tensorflow:Early stopping conditioned on metric `val_loss` which is not available. Available metrics are: loss,accuracy\n"
          ]
        },
        {
          "output_type": "stream",
          "name": "stdout",
          "text": [
            "\b\b\b\b\b\b\b\b\b\b\b\b\b\b\b\b\b\b\b\b\b\b\b\b\b\b\b\b\b\b\b\b\b\b\b\b\b\b\b\b\b\b\b\b\b\b\b\b\b\b\b\b\b\b\b\b\b\b\b\b\b\b\b\b\b\b\b\b\b\b\b\b\b\b\b\b\b\b\b\b\b\b\b\b\r313/313 [==============================] - 1s 3ms/step - loss: 0.1684 - accuracy: 0.9431\n",
            "Epoch 39/50\n",
            "303/313 [============================>.] - ETA: 0s - loss: 0.1472 - accuracy: 0.9407"
          ]
        },
        {
          "output_type": "stream",
          "name": "stderr",
          "text": [
            "WARNING:tensorflow:Early stopping conditioned on metric `val_loss` which is not available. Available metrics are: loss,accuracy\n"
          ]
        },
        {
          "output_type": "stream",
          "name": "stdout",
          "text": [
            "\b\b\b\b\b\b\b\b\b\b\b\b\b\b\b\b\b\b\b\b\b\b\b\b\b\b\b\b\b\b\b\b\b\b\b\b\b\b\b\b\b\b\b\b\b\b\b\b\b\b\b\b\b\b\b\b\b\b\b\b\b\b\b\b\b\b\b\b\b\b\b\b\b\b\b\b\b\b\b\b\b\b\b\b\r313/313 [==============================] - 1s 3ms/step - loss: 0.1490 - accuracy: 0.9406\n",
            "Epoch 40/50\n",
            "301/313 [===========================>..] - ETA: 0s - loss: 0.1506 - accuracy: 0.9422"
          ]
        },
        {
          "output_type": "stream",
          "name": "stderr",
          "text": [
            "WARNING:tensorflow:Early stopping conditioned on metric `val_loss` which is not available. Available metrics are: loss,accuracy\n"
          ]
        },
        {
          "output_type": "stream",
          "name": "stdout",
          "text": [
            "\b\b\b\b\b\b\b\b\b\b\b\b\b\b\b\b\b\b\b\b\b\b\b\b\b\b\b\b\b\b\b\b\b\b\b\b\b\b\b\b\b\b\b\b\b\b\b\b\b\b\b\b\b\b\b\b\b\b\b\b\b\b\b\b\b\b\b\b\b\b\b\b\b\b\b\b\b\b\b\b\b\b\b\b\r313/313 [==============================] - 1s 3ms/step - loss: 0.1506 - accuracy: 0.9416\n",
            "Epoch 41/50\n",
            "299/313 [===========================>..] - ETA: 0s - loss: 0.1443 - accuracy: 0.9460"
          ]
        },
        {
          "output_type": "stream",
          "name": "stderr",
          "text": [
            "WARNING:tensorflow:Early stopping conditioned on metric `val_loss` which is not available. Available metrics are: loss,accuracy\n"
          ]
        },
        {
          "output_type": "stream",
          "name": "stdout",
          "text": [
            "\b\b\b\b\b\b\b\b\b\b\b\b\b\b\b\b\b\b\b\b\b\b\b\b\b\b\b\b\b\b\b\b\b\b\b\b\b\b\b\b\b\b\b\b\b\b\b\b\b\b\b\b\b\b\b\b\b\b\b\b\b\b\b\b\b\b\b\b\b\b\b\b\b\b\b\b\b\b\b\b\b\b\b\b\r313/313 [==============================] - 1s 3ms/step - loss: 0.1452 - accuracy: 0.9453\n",
            "Epoch 42/50\n",
            "306/313 [============================>.] - ETA: 0s - loss: 0.1568 - accuracy: 0.9434"
          ]
        },
        {
          "output_type": "stream",
          "name": "stderr",
          "text": [
            "WARNING:tensorflow:Early stopping conditioned on metric `val_loss` which is not available. Available metrics are: loss,accuracy\n"
          ]
        },
        {
          "output_type": "stream",
          "name": "stdout",
          "text": [
            "\b\b\b\b\b\b\b\b\b\b\b\b\b\b\b\b\b\b\b\b\b\b\b\b\b\b\b\b\b\b\b\b\b\b\b\b\b\b\b\b\b\b\b\b\b\b\b\b\b\b\b\b\b\b\b\b\b\b\b\b\b\b\b\b\b\b\b\b\b\b\b\b\b\b\b\b\b\b\b\b\b\b\b\b\r313/313 [==============================] - 1s 3ms/step - loss: 0.1569 - accuracy: 0.9436\n",
            "Epoch 43/50\n",
            "309/313 [============================>.] - ETA: 0s - loss: 0.1394 - accuracy: 0.9447"
          ]
        },
        {
          "output_type": "stream",
          "name": "stderr",
          "text": [
            "WARNING:tensorflow:Early stopping conditioned on metric `val_loss` which is not available. Available metrics are: loss,accuracy\n"
          ]
        },
        {
          "output_type": "stream",
          "name": "stdout",
          "text": [
            "\b\b\b\b\b\b\b\b\b\b\b\b\b\b\b\b\b\b\b\b\b\b\b\b\b\b\b\b\b\b\b\b\b\b\b\b\b\b\b\b\b\b\b\b\b\b\b\b\b\b\b\b\b\b\b\b\b\b\b\b\b\b\b\b\b\b\b\b\b\b\b\b\b\b\b\b\b\b\b\b\b\b\b\b\r313/313 [==============================] - 1s 5ms/step - loss: 0.1389 - accuracy: 0.9448\n",
            "Epoch 44/50\n",
            "310/313 [============================>.] - ETA: 0s - loss: 0.1336 - accuracy: 0.9511"
          ]
        },
        {
          "output_type": "stream",
          "name": "stderr",
          "text": [
            "WARNING:tensorflow:Early stopping conditioned on metric `val_loss` which is not available. Available metrics are: loss,accuracy\n"
          ]
        },
        {
          "output_type": "stream",
          "name": "stdout",
          "text": [
            "\b\b\b\b\b\b\b\b\b\b\b\b\b\b\b\b\b\b\b\b\b\b\b\b\b\b\b\b\b\b\b\b\b\b\b\b\b\b\b\b\b\b\b\b\b\b\b\b\b\b\b\b\b\b\b\b\b\b\b\b\b\b\b\b\b\b\b\b\b\b\b\b\b\b\b\b\b\b\b\b\b\b\b\b\r313/313 [==============================] - 2s 5ms/step - loss: 0.1333 - accuracy: 0.9512\n",
            "Epoch 45/50\n",
            "311/313 [============================>.] - ETA: 0s - loss: 0.1206 - accuracy: 0.9571"
          ]
        },
        {
          "output_type": "stream",
          "name": "stderr",
          "text": [
            "WARNING:tensorflow:Early stopping conditioned on metric `val_loss` which is not available. Available metrics are: loss,accuracy\n"
          ]
        },
        {
          "output_type": "stream",
          "name": "stdout",
          "text": [
            "\b\b\b\b\b\b\b\b\b\b\b\b\b\b\b\b\b\b\b\b\b\b\b\b\b\b\b\b\b\b\b\b\b\b\b\b\b\b\b\b\b\b\b\b\b\b\b\b\b\b\b\b\b\b\b\b\b\b\b\b\b\b\b\b\b\b\b\b\b\b\b\b\b\b\b\b\b\b\b\b\b\b\b\b\r313/313 [==============================] - 1s 4ms/step - loss: 0.1210 - accuracy: 0.9567\n",
            "Epoch 46/50\n",
            "298/313 [===========================>..] - ETA: 0s - loss: 0.1067 - accuracy: 0.9583"
          ]
        },
        {
          "output_type": "stream",
          "name": "stderr",
          "text": [
            "WARNING:tensorflow:Early stopping conditioned on metric `val_loss` which is not available. Available metrics are: loss,accuracy\n"
          ]
        },
        {
          "output_type": "stream",
          "name": "stdout",
          "text": [
            "\b\b\b\b\b\b\b\b\b\b\b\b\b\b\b\b\b\b\b\b\b\b\b\b\b\b\b\b\b\b\b\b\b\b\b\b\b\b\b\b\b\b\b\b\b\b\b\b\b\b\b\b\b\b\b\b\b\b\b\b\b\b\b\b\b\b\b\b\b\b\b\b\b\b\b\b\b\b\b\b\b\b\b\b\r313/313 [==============================] - 1s 3ms/step - loss: 0.1071 - accuracy: 0.9579\n",
            "Epoch 47/50\n",
            "305/313 [============================>.] - ETA: 0s - loss: 0.1224 - accuracy: 0.9530"
          ]
        },
        {
          "output_type": "stream",
          "name": "stderr",
          "text": [
            "WARNING:tensorflow:Early stopping conditioned on metric `val_loss` which is not available. Available metrics are: loss,accuracy\n"
          ]
        },
        {
          "output_type": "stream",
          "name": "stdout",
          "text": [
            "\b\b\b\b\b\b\b\b\b\b\b\b\b\b\b\b\b\b\b\b\b\b\b\b\b\b\b\b\b\b\b\b\b\b\b\b\b\b\b\b\b\b\b\b\b\b\b\b\b\b\b\b\b\b\b\b\b\b\b\b\b\b\b\b\b\b\b\b\b\b\b\b\b\b\b\b\b\b\b\b\b\b\b\b\r313/313 [==============================] - 1s 3ms/step - loss: 0.1221 - accuracy: 0.9526\n",
            "Epoch 48/50\n",
            "305/313 [============================>.] - ETA: 0s - loss: 0.1570 - accuracy: 0.9574"
          ]
        },
        {
          "output_type": "stream",
          "name": "stderr",
          "text": [
            "WARNING:tensorflow:Early stopping conditioned on metric `val_loss` which is not available. Available metrics are: loss,accuracy\n"
          ]
        },
        {
          "output_type": "stream",
          "name": "stdout",
          "text": [
            "\b\b\b\b\b\b\b\b\b\b\b\b\b\b\b\b\b\b\b\b\b\b\b\b\b\b\b\b\b\b\b\b\b\b\b\b\b\b\b\b\b\b\b\b\b\b\b\b\b\b\b\b\b\b\b\b\b\b\b\b\b\b\b\b\b\b\b\b\b\b\b\b\b\b\b\b\b\b\b\b\b\b\b\b\r313/313 [==============================] - 1s 3ms/step - loss: 0.1553 - accuracy: 0.9575\n",
            "Epoch 49/50\n",
            "306/313 [============================>.] - ETA: 0s - loss: 0.1148 - accuracy: 0.9556"
          ]
        },
        {
          "output_type": "stream",
          "name": "stderr",
          "text": [
            "WARNING:tensorflow:Early stopping conditioned on metric `val_loss` which is not available. Available metrics are: loss,accuracy\n"
          ]
        },
        {
          "output_type": "stream",
          "name": "stdout",
          "text": [
            "\b\b\b\b\b\b\b\b\b\b\b\b\b\b\b\b\b\b\b\b\b\b\b\b\b\b\b\b\b\b\b\b\b\b\b\b\b\b\b\b\b\b\b\b\b\b\b\b\b\b\b\b\b\b\b\b\b\b\b\b\b\b\b\b\b\b\b\b\b\b\b\b\b\b\b\b\b\b\b\b\b\b\b\b\r313/313 [==============================] - 1s 3ms/step - loss: 0.1148 - accuracy: 0.9552\n",
            "Epoch 50/50\n",
            "304/313 [============================>.] - ETA: 0s - loss: 0.1537 - accuracy: 0.9513"
          ]
        },
        {
          "output_type": "stream",
          "name": "stderr",
          "text": [
            "WARNING:tensorflow:Early stopping conditioned on metric `val_loss` which is not available. Available metrics are: loss,accuracy\n"
          ]
        },
        {
          "output_type": "stream",
          "name": "stdout",
          "text": [
            "313/313 [==============================] - 1s 3ms/step - loss: 0.1525 - accuracy: 0.9512\n",
            "32/32 [==============================] - 0s 2ms/step - loss: 0.2586 - accuracy: 0.9520\n",
            "Test Accuracy: 95.20000219345093\n"
          ]
        }
      ]
    },
    {
      "cell_type": "code",
      "source": [
        "plt.plot(history.history['accuracy'], label='Training Accuracy')\n",
        "plt.title('Training and Validation Accuracy')\n",
        "plt.xlabel('Epoch')\n",
        "plt.ylabel('Accuracy')\n",
        "plt.legend()\n",
        "plt.show()"
      ],
      "metadata": {
        "colab": {
          "base_uri": "https://localhost:8080/",
          "height": 472
        },
        "id": "VPUxG807mfCO",
        "outputId": "faaced47-ebaa-4db8-9948-c0bb6a9c6dad"
      },
      "execution_count": null,
      "outputs": [
        {
          "output_type": "display_data",
          "data": {
            "text/plain": [
              "<Figure size 640x480 with 1 Axes>"
            ],
            "image/png": "[encoded data removed]"
          },
          "metadata": {}
        }
      ]
    },
    {
      "cell_type": "markdown",
      "metadata": {
        "id": "KZqcuZSq84__"
      },
      "source": [
        "Creating a Random Classifier for Presentation Purpose"
      ]
    },
    {
      "cell_type": "code",
      "execution_count": null,
      "metadata": {
        "id": "PU_TykH584__"
      },
      "outputs": [],
      "source": [
        "class RandomClassifier:\n",
        "    def fit(self, X, y):\n",
        "        # This is a placeholder method since a random classifier does not require training\n",
        "        pass\n",
        "\n",
        "    def predict(self, X):\n",
        "        # Generate random predictions for the input data\n",
        "        num_samples = X.shape[0]\n",
        "        return np.random.randint(2, size=num_samples)  # Assuming binary classification (0 or 1)\n",
        "\n",
        "# Create an instance of the RandomClassifier\n",
        "random_model = RandomClassifier()"
      ]
    },
    {
      "cell_type": "code",
      "execution_count": null,
      "metadata": {
        "id": "To4xQLl384__",
        "colab": {
          "base_uri": "https://localhost:8080/"
        },
        "outputId": "46358dcf-21b0-46ba-ebc0-6c5f90864921"
      },
      "outputs": [
        {
          "output_type": "stream",
          "name": "stdout",
          "text": [
            "Accuracy: 0.499\n"
          ]
        }
      ],
      "source": [
        "# Train the classifier\n",
        "random_model.fit(x_train_pca, y_train)\n",
        "\n",
        "# Predict on the test set\n",
        "y_pred = random_model.predict(x_test_pca)\n",
        "\n",
        "# Calculate accuracy\n",
        "accuracy = accuracy_score(y_test, y_pred)\n",
        "print(\"Accuracy:\", accuracy)"
      ]
    },
    {
      "cell_type": "markdown",
      "source": [
        "Plotting 5 images of each classs"
      ],
      "metadata": {
        "id": "NWZLwc5wY161"
      }
    },
    {
      "cell_type": "code",
      "execution_count": null,
      "metadata": {
        "id": "bjPxaynL85AA",
        "colab": {
          "base_uri": "https://localhost:8080/",
          "height": 211
        },
        "outputId": "47390745-4e9d-489e-e887-923b3469f6a6"
      },
      "outputs": [
        {
          "output_type": "error",
          "ename": "NameError",
          "evalue": "name 'x_test_flat' is not defined",
          "traceback": [
            "\u001b[0;31m---------------------------------------------------------------------------\u001b[0m",
            "\u001b[0;31mNameError\u001b[0m                                 Traceback (most recent call last)",
            "\u001b[0;32m<ipython-input-1-e178589e9510>\u001b[0m in \u001b[0;36m<cell line: 2>\u001b[0;34m()\u001b[0m\n\u001b[1;32m      1\u001b[0m \u001b[0;31m# Assuming your data is already loaded as test_data and test_labels\u001b[0m\u001b[0;34m\u001b[0m\u001b[0;34m\u001b[0m\u001b[0m\n\u001b[0;32m----> 2\u001b[0;31m \u001b[0mtest_data\u001b[0m \u001b[0;34m=\u001b[0m \u001b[0mx_test_flat\u001b[0m\u001b[0;34m\u001b[0m\u001b[0;34m\u001b[0m\u001b[0m\n\u001b[0m\u001b[1;32m      3\u001b[0m \u001b[0mtest_data_pca\u001b[0m \u001b[0;34m=\u001b[0m \u001b[0mipca\u001b[0m\u001b[0;34m.\u001b[0m\u001b[0mtransform\u001b[0m\u001b[0;34m(\u001b[0m\u001b[0mtest_data\u001b[0m\u001b[0;34m)\u001b[0m\u001b[0;34m\u001b[0m\u001b[0;34m\u001b[0m\u001b[0m\n\u001b[1;32m      4\u001b[0m \u001b[0mpredictions\u001b[0m \u001b[0;34m=\u001b[0m \u001b[0mmodel\u001b[0m\u001b[0;34m.\u001b[0m\u001b[0mpredict\u001b[0m\u001b[0;34m(\u001b[0m\u001b[0mx_test_pca\u001b[0m\u001b[0;34m)\u001b[0m\u001b[0;34m\u001b[0m\u001b[0;34m\u001b[0m\u001b[0m\n\u001b[1;32m      5\u001b[0m \u001b[0;34m\u001b[0m\u001b[0m\n",
            "\u001b[0;31mNameError\u001b[0m: name 'x_test_flat' is not defined"
          ]
        }
      ],
      "source": [
        "# Assuming your data is already loaded as test_data and test_labels\n",
        "test_data = x_test_flat\n",
        "test_data_pca = ipca.transform(test_data)\n",
        "predictions = model.predict(x_test_pca)\n",
        "\n",
        "# The 'predictions' array will contain the predicted probabilities for each sample\n",
        "test_labels = (predictions > 0.5).astype(int)\n",
        "\n",
        "# Image shape\n",
        "image_shape = (240, 240, 3)\n",
        "\n",
        "# Generate random indices for accidents and non-accidents\n",
        "accident_indices = np.where(y_test == 1)[0]\n",
        "non_accident_indices = np.where(y_test == 0)[0]\n",
        "\n",
        "# Randomly select 5 indices for accidents and non-accidents\n",
        "random_accident_indices = np.random.choice(accident_indices, size=5, replace=False)\n",
        "random_non_accident_indices = np.random.choice(non_accident_indices, size=5, replace=False)\n",
        "\n",
        "# Plot 5 random images of accidents\n",
        "plt.figure(figsize=(15, 3))\n",
        "for i, idx in enumerate(random_accident_indices, 1):\n",
        "    plt.subplot(1, 5, i)\n",
        "    plt.imshow(test_data[idx].reshape(image_shape))\n",
        "    if test_labels[idx] == y_test[idx]:\n",
        "        plt.title(\"Accident\", color='green')\n",
        "    else:\n",
        "        plt.title(\"Accident\", color='red')\n",
        "    plt.axis('off')\n",
        "\n",
        "plt.show()\n",
        "\n",
        "# Plot 5 random images of non-accidents\n",
        "plt.figure(figsize=(15, 3))\n",
        "for i, idx in enumerate(random_non_accident_indices, 1):\n",
        "    plt.subplot(1, 5, i)\n",
        "    plt.imshow(test_data[idx].reshape(image_shape))\n",
        "    if test_labels[idx] == y_test[idx]:\n",
        "        plt.title(\"Non-Accident\", color='green')\n",
        "    else:\n",
        "        plt.title(\"Non-Accident\", color='red')\n",
        "    plt.axis('off')\n",
        "\n",
        "plt.show()\n"
      ]
    },
    {
      "cell_type": "code",
      "source": [
        "import matplotlib.pyplot as plt\n",
        "\n",
        "# Define the accuracies\n",
        "accuracies = {\n",
        "    'Random' : 0.495,\n",
        "    'QDA': 0.792,\n",
        "    'AdaBoost': 0.811,\n",
        "    'Gradient Boosting': 0.724,\n",
        "    'Random Forest': 0.843,\n",
        "    'DNN': 0.9369\n",
        "}\n",
        "\n",
        "# Define colors for each classifier\n",
        "colors = ['lightcoral', 'salmon', 'lightgreen', 'blue', 'grey']\n",
        "classifiers = list(accuracies.keys())\n",
        "\n",
        "# Plot the accuracies\n",
        "plt.figure(figsize=(8, 6))  # Adjusted figure width\n",
        "bars = plt.bar(classifiers, accuracies.values(), color=colors)\n",
        "plt.title('Accuracy of Different Classifiers', fontsize=16)\n",
        "plt.xlabel('Classifier', fontsize=14)\n",
        "plt.ylabel('Accuracy', fontsize=14)\n",
        "plt.ylim(0, 1.0)  # Adjusted y-axis limits to start from 0\n",
        "plt.xticks(rotation=45, fontsize=12)\n",
        "plt.yticks(fontsize=12)\n",
        "plt.grid(axis='y', linestyle='--', alpha=0.7)\n",
        "\n",
        "# Add legend\n",
        "legend_labels = [f'{classifier}: {accuracy * 100:.2f}%' for classifier, accuracy in accuracies.items()]\n",
        "plt.legend(bars, legend_labels, loc='upper right', fontsize=10)\n",
        "\n",
        "plt.tight_layout()  # Adjust layout for better presentation\n",
        "plt.show()\n"
      ],
      "metadata": {
        "colab": {
          "base_uri": "https://localhost:8080/",
          "height": 607
        },
        "id": "2EgF_XeEfdR2",
        "outputId": "a101ad7d-1857-402c-9692-9715ec0843f4"
      },
      "execution_count": null,
      "outputs": [
        {
          "output_type": "display_data",
          "data": {
            "text/plain": [
              "<Figure size 800x600 with 1 Axes>"
            ],
            "image/png": "[encoded data removed]"
          },
          "metadata": {}
        }
      ]
    },
    {
      "cell_type": "markdown",
      "source": [
        "Upload a random image and test the model on it"
      ],
      "metadata": {
        "id": "M4ZdWu5HAclu"
      }
    }
  ],
  "metadata": {
    "kernelspec": {
      "display_name": "Python 3",
      "name": "python3"
    },
    "language_info": {
      "codemirror_mode": {
        "name": "ipython",
        "version": 3
      },
      "file_extension": ".py",
      "mimetype": "text/x-python",
      "name": "python",
      "nbconvert_exporter": "python",
      "pygments_lexer": "ipython3",
      "version": "3.9.10"
    },
    "colab": {
      "provenance": [],
      "gpuType": "T4",
      "include_colab_link": true
    },
    "accelerator": "GPU"
  },
  "nbformat": 4,
  "nbformat_minor": 0
}